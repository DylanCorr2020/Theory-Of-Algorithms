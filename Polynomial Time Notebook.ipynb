{
 "cells": [
  {
   "attachments": {},
   "cell_type": "markdown",
   "metadata": {},
   "source": [
    "# Polynomial Time Complexity Class (P)\n",
    "****"
   ]
  },
  {
   "attachments": {},
   "cell_type": "markdown",
   "metadata": {},
   "source": [
    "### Introduction\n",
    "In computer science, there exist some problems whose solutions are not yet found, the problems are divided into classes known as Complexity Classes. A complexity class is a set of computational problems which can be computed within a given a rescource or in a paticular setting. These classes help scientists to groups problems based on how much time and space they require to solve problems and verify the solutions.\n",
    "\n",
    "\n",
    "P is often a class of computational problems that are solvable and tractable.\n",
    "Tractable means that the problems can be solved in theory as well as in practice."
   ]
  },
  {
   "attachments": {},
   "cell_type": "markdown",
   "metadata": {},
   "source": [
    "### Space and Time complexity \n",
    " \n",
    "\n",
    "The time complexity of an algorithm is a measure of the number of steps needed to solve a problem and can also be used to determine the time required to verify its solution.\n",
    "\n",
    "The space complexity of an algorithm, on the other hand, indicates the amount of memory it uses in its operations.\n",
    "\n",
    "\n",
    "\n",
    "\n",
    "\n",
    "\n"
   ]
  },
  {
   "attachments": {},
   "cell_type": "markdown",
   "metadata": {},
   "source": [
    "### What is Polynomial?\n",
    "\n",
    "The polynomial time complexity class (P) contains all decision problems that can be solved in polynomial time by a deterministic Turing machine. \n",
    "\n",
    "A language L is in P if and only if there exists a deterministic Turing machine M, such that\n",
    "\n",
    "- M runs for polynomial time on all inputs\n",
    "- $\\forall x \\in L : M(x) = 1$\n",
    "- $\\forall x \\notin L : M(x) = 0$\n"
   ]
  },
  {
   "attachments": {},
   "cell_type": "markdown",
   "metadata": {},
   "source": [
    "This P class contains many natural problems like:\n",
    "\n",
    "- Calculating the greatest common divisor.\n",
    "- Finding a maximum matching.\n",
    "- Decision versions of linear programming.\n",
    "\n",
    "\n"
   ]
  },
  {
   "cell_type": "markdown",
   "metadata": {},
   "source": []
  },
  {
   "cell_type": "code",
   "execution_count": 1,
   "metadata": {},
   "outputs": [],
   "source": [
    "import numpy as np\n",
    "import matplotlib as plt"
   ]
  },
  {
   "attachments": {},
   "cell_type": "markdown",
   "metadata": {},
   "source": [
    "### Greatest Common Divisor\n",
    "\n",
    "The GCD problem belongs to the P (Polynomial Time Complexity Class) due to its efficient solution using the Euclidean algorithm, which can calculate the GCD in polynomial time.\n",
    "\n"
   ]
  },
  {
   "cell_type": "code",
   "execution_count": 8,
   "metadata": {},
   "outputs": [
    {
     "data": {
      "text/plain": [
       "16"
      ]
     },
     "execution_count": 8,
     "metadata": {},
     "output_type": "execute_result"
    }
   ],
   "source": [
    "# Finding the GCD of two numners using Euclidean algorithm\n",
    "\n",
    "def ComputeGCD(a, b):\n",
    "    # If b is 0, return a as the GCD\n",
    "    if b == 0:\n",
    "        return a\n",
    "    # If b is not 0, call the function with b and a%b as inputs\n",
    "    else:\n",
    "       return ComputeGCD(b, a % b)\n",
    "\n",
    "\n",
    "# Call the ComputeGCD function with 48 and 64 as inputs\n",
    "ComputeGCD(48, 64)\n"
   ]
  },
  {
   "attachments": {},
   "cell_type": "markdown",
   "metadata": {},
   "source": [
    "## References\n",
    "- [1]\n",
    ": **P (complexity)**[Wiki](https://en.wikipedia.org/wiki/P_(complexity))\n",
    "- [2]\n",
    ": **Types of Complexity Classes**[click](https://www.geeksforgeeks.org/types-of-complexity-classes-p-np-conp-np-hard-and-np-complete/)\n"
   ]
  },
  {
   "attachments": {},
   "cell_type": "markdown",
   "metadata": {},
   "source": [
    "### End \n",
    "****"
   ]
  },
  {
   "cell_type": "markdown",
   "metadata": {},
   "source": []
  }
 ],
 "metadata": {
  "kernelspec": {
   "display_name": "base",
   "language": "python",
   "name": "python3"
  },
  "language_info": {
   "codemirror_mode": {
    "name": "ipython",
    "version": 3
   },
   "file_extension": ".py",
   "mimetype": "text/x-python",
   "name": "python",
   "nbconvert_exporter": "python",
   "pygments_lexer": "ipython3",
   "version": "3.9.15"
  },
  "orig_nbformat": 4,
  "vscode": {
   "interpreter": {
    "hash": "396e2ac3d3566b6a470c2e01b9198f405d38aeb15daa8797f23caa4f8ed051fd"
   }
  }
 },
 "nbformat": 4,
 "nbformat_minor": 2
}
