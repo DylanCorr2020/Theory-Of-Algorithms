{
 "cells": [
  {
   "attachments": {},
   "cell_type": "markdown",
   "metadata": {},
   "source": [
    "# Polynomial Time Complexity Class (P)\n",
    "****"
   ]
  },
  {
   "attachments": {},
   "cell_type": "markdown",
   "metadata": {},
   "source": [
    "### Introduction\n",
    "\n",
    "The Polynomial Time Complexity Class (P)[[1]](https://en.wikipedia.org/wiki/P_(complexity)) is an important concept in computer science. It helps us understand the efficiency of algorithms. P is the class of decision problems that can be solved by a deterministic algorithm in polynomial time.\n",
    "\n",
    "The study of P and other complexity classes helps us understand the efficiency of algorithms. It provides a framework for determining whether a problem can be solved efficiently or not. This is crucial for developing practical algorithms that can solve real-world problems efficiently.\n",
    "\n",
    "The importance of P lies in the fact that many practical problems can be solved efficiently using algorithms that belong to this class. For example, sorting and searching algorithms like merge sort and binary search are polynomial time algorithms that are widely used in practice.\n",
    "\n",
    "Understanding the time complexity of algorithms can help us design more efficient algorithms for solving problems.\n",
    "\n",
    "P is a subset of the larger class of problems known as NP (Non-deterministic Polynomial time), which contains many important practical problems that are not known to be solvable in polynomial time. By proving that a problem is in P, we can show that it is solvable in polynomial time, which is a strong indication that the problem is efficiently solvable in practice.\n"
   ]
  },
  {
   "attachments": {},
   "cell_type": "markdown",
   "metadata": {},
   "source": [
    "### Polynomial Time\n",
    "Polynomial time[[4]](https://mathworld.wolfram.com/PolynomialTime.html) is a measure of how fast an algorithm can solve a problem based on the size of the input. An algorithm is said to run in polynomial time if its running time is bounded by some polynomial function of the input size. A polynomial function is a mathematical expression that involves only non-negative integer powers of a variable, such as x^2 + 1x + 4. \n",
    " \n"
   ]
  },
  {
   "attachments": {},
   "cell_type": "markdown",
   "metadata": {},
   "source": [
    "### Polynomial Complexity Class (P)\n",
    "The polynomial time complexity class (P) contains all decision problems that can be solved in polynomial time by a deterministic Turing machine. A deterministic Turing machine is a theoretical model of computation that follows a fixed set of rules.[[3]](https://planetmath.org/deterministicturingmachine)\n",
    "\n",
    "\n",
    "* A tape that is divided into cells, each cell can hold a symbol from a finite alphabet\n",
    "* A tape head that can read and write symbols on the tape, and move left or right\n",
    "* A finite set of states that represent the internal configuration of the machine\n",
    "* A transition function that specifies what action to take for each state and symbol combination\n",
    "* A start state that indicates where to begin the computation\n",
    "* A halt state that indicates when to stop the computation\n",
    "\n",
    "\n",
    "\n",
    "The polynomial time complexity class (P) contains all decision problems that can be solved in polynomial time by a deterministic Turing machine. \n",
    "\n",
    "A language L is in P if and only if there exists a deterministic Turing machine M, such that\n",
    "\n",
    "- M runs for polynomial time on all inputs\n",
    "- $\\forall x \\in L : M(x) = 1$\n",
    "- $\\forall x \\notin L : M(x) = 0$\n",
    "\n"
   ]
  },
  {
   "attachments": {},
   "cell_type": "markdown",
   "metadata": {},
   "source": [
    "### Space and Time complexity \n",
    " \n",
    "\n",
    "The time complexity of an algorithm is a measure of the number of steps needed to solve a problem and can also be used to determine the time required to verify its solution.\n",
    "\n",
    "The space complexity of an algorithm, on the other hand, indicates the amount of memory it uses in its operations.\n",
    "\n",
    "\n",
    "\n",
    "\n",
    "\n",
    "\n"
   ]
  },
  {
   "attachments": {},
   "cell_type": "markdown",
   "metadata": {},
   "source": [
    "### What is Descision Problems \n",
    "There are many problems for which the answer is a Yes or a No. These types of problems are known as decision problems."
   ]
  },
  {
   "attachments": {},
   "cell_type": "markdown",
   "metadata": {},
   "source": [
    "This P class contains many natural problems like:\n",
    "\n",
    "- Calculating the greatest common divisor.\n",
    "- Checking if a number is prime\n",
    "- Decision versions of linear programming.\n",
    "\n",
    "\n"
   ]
  },
  {
   "attachments": {},
   "cell_type": "markdown",
   "metadata": {},
   "source": [
    "### What is NP ?\n",
    "\n",
    "The class NP consists of those problems that are verifiable in polynomial time. NP is the class of decision problems for which it is easy to check the correctness of a claimed answer, with the aid of a little extra information. Hence, we aren’t asking for a way to find a solution, but only to verify that an alleged solution really is correct.\n",
    "\n"
   ]
  },
  {
   "attachments": {},
   "cell_type": "markdown",
   "metadata": {},
   "source": [
    "###"
   ]
  },
  {
   "attachments": {},
   "cell_type": "markdown",
   "metadata": {},
   "source": [
    "### What is a Language \n",
    "\n",
    "A language is set of strings in a alphabet. You can then form the set of all\n",
    "possible strings of A which is sometimes written as A*. We call the ∗\n",
    "the Kleene star after Stephen Cole Kleene. A language is then any subset of A*."
   ]
  },
  {
   "attachments": {},
   "cell_type": "markdown",
   "metadata": {},
   "source": [
    "### Greatest Common Divisor\n",
    "\n",
    "The GCD problem belongs to the P (Polynomial Time Complexity Class) due to its efficient solution using the Euclidean algorithm, which can calculate the GCD in polynomial time.\n",
    "\n"
   ]
  },
  {
   "cell_type": "code",
   "execution_count": 8,
   "metadata": {},
   "outputs": [
    {
     "data": {
      "text/plain": [
       "16"
      ]
     },
     "execution_count": 8,
     "metadata": {},
     "output_type": "execute_result"
    }
   ],
   "source": [
    "# Finding the GCD of two numners using Euclidean algorithm\n",
    "\n",
    "def ComputeGCD(a, b):\n",
    "    # If b is 0, return a as the GCD\n",
    "    if b == 0:\n",
    "        return a\n",
    "    # If b is not 0, call the function with b and a%b as inputs\n",
    "    else:\n",
    "       return ComputeGCD(b, a % b)\n",
    "\n",
    "\n",
    "# Call the ComputeGCD function with 48 and 64 as inputs\n",
    "ComputeGCD(48, 64)\n"
   ]
  },
  {
   "attachments": {},
   "cell_type": "markdown",
   "metadata": {},
   "source": [
    "### Checking If A Number is Prime\n",
    "This code checks if the number my_number is prime and prints the result to the console. The is_prime() function uses a simple algorithm that checks if the number is divisible by any integers between 2 and the square root of the number, and runs in O(sqrt(n)) time, which is polynomial.\n"
   ]
  },
  {
   "cell_type": "code",
   "execution_count": 2,
   "metadata": {},
   "outputs": [
    {
     "name": "stdout",
     "output_type": "stream",
     "text": [
      "True\n"
     ]
    }
   ],
   "source": [
    "def is_prime(n):\n",
    "    if n < 2:\n",
    "        return False\n",
    "    for i in range(2, int(n ** 0.5) + 1):\n",
    "        if n % i == 0:\n",
    "            return False\n",
    "    return True\n",
    "\n",
    "\n",
    "my_number = 17\n",
    "is_prime_number = is_prime(my_number)\n",
    "print(is_prime_number)\n"
   ]
  },
  {
   "cell_type": "code",
   "execution_count": 3,
   "metadata": {},
   "outputs": [
    {
     "name": "stdout",
     "output_type": "stream",
     "text": [
      "[[19 22]\n",
      " [43 50]]\n"
     ]
    }
   ],
   "source": [
    "import numpy as np\n",
    "\n",
    "a = np.array([[1, 2], [3, 4]])\n",
    "b = np.array([[5, 6], [7, 8]])\n",
    "c = np.dot(a, b)\n",
    "print(c)\n"
   ]
  },
  {
   "attachments": {},
   "cell_type": "markdown",
   "metadata": {},
   "source": [
    "Write a python script to final all settings of p,q,r that make the following true\n",
    "\n",
    "1. (p) | "
   ]
  },
  {
   "attachments": {},
   "cell_type": "markdown",
   "metadata": {},
   "source": [
    "## References\n",
    "- [1]\n",
    ": **P (complexity)**  [click](https://en.wikipedia.org/wiki/P_(complexity))\n",
    "- [2]\n",
    ": **Types of Complexity Classes**  [click](https://www.geeksforgeeks.org/types-of-complexity-classes-p-np-conp-np-hard-and-np-complete/)\n",
    "- [3]\n",
    ": **deterministic Turing machine**  [click](https://planetmath.org/deterministicturingmachine)\n",
    "- [4]\n",
    ": **Polynomial Time**  [click](https://mathworld.wolfram.com/PolynomialTime.html)"
   ]
  },
  {
   "cell_type": "markdown",
   "metadata": {},
   "source": []
  },
  {
   "attachments": {},
   "cell_type": "markdown",
   "metadata": {},
   "source": [
    "### End \n",
    "****"
   ]
  },
  {
   "cell_type": "markdown",
   "metadata": {},
   "source": []
  }
 ],
 "metadata": {
  "kernelspec": {
   "display_name": "base",
   "language": "python",
   "name": "python3"
  },
  "language_info": {
   "codemirror_mode": {
    "name": "ipython",
    "version": 3
   },
   "file_extension": ".py",
   "mimetype": "text/x-python",
   "name": "python",
   "nbconvert_exporter": "python",
   "pygments_lexer": "ipython3",
   "version": "3.9.15"
  },
  "orig_nbformat": 4,
  "vscode": {
   "interpreter": {
    "hash": "396e2ac3d3566b6a470c2e01b9198f405d38aeb15daa8797f23caa4f8ed051fd"
   }
  }
 },
 "nbformat": 4,
 "nbformat_minor": 2
}
